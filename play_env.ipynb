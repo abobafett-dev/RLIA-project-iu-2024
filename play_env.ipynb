{
 "cells": [
  {
   "metadata": {
    "ExecuteTime": {
     "end_time": "2024-05-01T17:58:55.175356Z",
     "start_time": "2024-05-01T17:58:51.095334Z"
    }
   },
   "cell_type": "code",
   "source": "!pip install gymnasium[accept-rom-license]",
   "id": "cefa686717dda88c",
   "outputs": [
    {
     "name": "stdout",
     "output_type": "stream",
     "text": [
      "Requirement already satisfied: gymnasium[accept-rom-license] in c:\\users\\me\\appdata\\local\\programs\\python\\python311\\lib\\site-packages (0.29.1)\n",
      "Requirement already satisfied: numpy>=1.21.0 in c:\\users\\me\\appdata\\local\\programs\\python\\python311\\lib\\site-packages (from gymnasium[accept-rom-license]) (1.26.4)\n",
      "Requirement already satisfied: cloudpickle>=1.2.0 in c:\\users\\me\\appdata\\local\\programs\\python\\python311\\lib\\site-packages (from gymnasium[accept-rom-license]) (3.0.0)\n",
      "Requirement already satisfied: typing-extensions>=4.3.0 in c:\\users\\me\\appdata\\local\\programs\\python\\python311\\lib\\site-packages (from gymnasium[accept-rom-license]) (4.11.0)\n",
      "Requirement already satisfied: farama-notifications>=0.0.1 in c:\\users\\me\\appdata\\local\\programs\\python\\python311\\lib\\site-packages (from gymnasium[accept-rom-license]) (0.0.4)\n",
      "Requirement already satisfied: autorom~=0.4.2 in c:\\users\\me\\appdata\\local\\programs\\python\\python311\\lib\\site-packages (from autorom[accept-rom-license]~=0.4.2; extra == \"accept-rom-license\"->gymnasium[accept-rom-license]) (0.4.2)\n",
      "Requirement already satisfied: click in c:\\users\\me\\appdata\\local\\programs\\python\\python311\\lib\\site-packages (from autorom~=0.4.2->autorom[accept-rom-license]~=0.4.2; extra == \"accept-rom-license\"->gymnasium[accept-rom-license]) (8.1.7)\n",
      "Requirement already satisfied: requests in c:\\users\\me\\appdata\\local\\programs\\python\\python311\\lib\\site-packages (from autorom~=0.4.2->autorom[accept-rom-license]~=0.4.2; extra == \"accept-rom-license\"->gymnasium[accept-rom-license]) (2.31.0)\n",
      "Requirement already satisfied: tqdm in c:\\users\\me\\appdata\\local\\programs\\python\\python311\\lib\\site-packages (from autorom~=0.4.2->autorom[accept-rom-license]~=0.4.2; extra == \"accept-rom-license\"->gymnasium[accept-rom-license]) (4.66.2)\n",
      "Requirement already satisfied: AutoROM.accept-rom-license in c:\\users\\me\\appdata\\local\\programs\\python\\python311\\lib\\site-packages (from autorom[accept-rom-license]~=0.4.2; extra == \"accept-rom-license\"->gymnasium[accept-rom-license]) (0.6.1)\n",
      "Requirement already satisfied: colorama in c:\\users\\me\\appdata\\local\\programs\\python\\python311\\lib\\site-packages (from click->autorom~=0.4.2->autorom[accept-rom-license]~=0.4.2; extra == \"accept-rom-license\"->gymnasium[accept-rom-license]) (0.4.6)\n",
      "Requirement already satisfied: charset-normalizer<4,>=2 in c:\\users\\me\\appdata\\local\\programs\\python\\python311\\lib\\site-packages (from requests->autorom~=0.4.2->autorom[accept-rom-license]~=0.4.2; extra == \"accept-rom-license\"->gymnasium[accept-rom-license]) (3.3.2)\n",
      "Requirement already satisfied: idna<4,>=2.5 in c:\\users\\me\\appdata\\local\\programs\\python\\python311\\lib\\site-packages (from requests->autorom~=0.4.2->autorom[accept-rom-license]~=0.4.2; extra == \"accept-rom-license\"->gymnasium[accept-rom-license]) (3.7)\n",
      "Requirement already satisfied: urllib3<3,>=1.21.1 in c:\\users\\me\\appdata\\local\\programs\\python\\python311\\lib\\site-packages (from requests->autorom~=0.4.2->autorom[accept-rom-license]~=0.4.2; extra == \"accept-rom-license\"->gymnasium[accept-rom-license]) (2.2.1)\n",
      "Requirement already satisfied: certifi>=2017.4.17 in c:\\users\\me\\appdata\\local\\programs\\python\\python311\\lib\\site-packages (from requests->autorom~=0.4.2->autorom[accept-rom-license]~=0.4.2; extra == \"accept-rom-license\"->gymnasium[accept-rom-license]) (2023.7.22)\n"
     ]
    }
   ],
   "execution_count": 21
  },
  {
   "metadata": {
    "ExecuteTime": {
     "end_time": "2024-05-01T17:58:55.258161Z",
     "start_time": "2024-05-01T17:58:55.177366Z"
    }
   },
   "cell_type": "code",
   "source": [
    "from gymnasium.utils.play import play\n",
    "import gymnasium as gym\n",
    "\n",
    "\n",
    "def play_env():\n",
    "    env = gym.make(\"ALE/BankHeist-v5\", render_mode=\"rgb_array\")\n",
    "    env.metadata['render_fps'] = 15\n",
    "    play(env, zoom=3)\n",
    "\n",
    "play_env()"
   ],
   "id": "dc1fc3efd832ddba",
   "outputs": [
    {
     "ename": "NamespaceNotFound",
     "evalue": "Namespace ALE not found. Have you installed the proper package for ALE?",
     "output_type": "error",
     "traceback": [
      "\u001B[1;31m---------------------------------------------------------------------------\u001B[0m",
      "\u001B[1;31mNamespaceNotFound\u001B[0m                         Traceback (most recent call last)",
      "Cell \u001B[1;32mIn[22], line 10\u001B[0m\n\u001B[0;32m      7\u001B[0m     env\u001B[38;5;241m.\u001B[39mmetadata[\u001B[38;5;124m'\u001B[39m\u001B[38;5;124mrender_fps\u001B[39m\u001B[38;5;124m'\u001B[39m] \u001B[38;5;241m=\u001B[39m \u001B[38;5;241m15\u001B[39m\n\u001B[0;32m      8\u001B[0m     play(env, zoom\u001B[38;5;241m=\u001B[39m\u001B[38;5;241m3\u001B[39m)\n\u001B[1;32m---> 10\u001B[0m \u001B[43mplay_env\u001B[49m\u001B[43m(\u001B[49m\u001B[43m)\u001B[49m\n",
      "Cell \u001B[1;32mIn[22], line 6\u001B[0m, in \u001B[0;36mplay_env\u001B[1;34m()\u001B[0m\n\u001B[0;32m      5\u001B[0m \u001B[38;5;28;01mdef\u001B[39;00m \u001B[38;5;21mplay_env\u001B[39m():\n\u001B[1;32m----> 6\u001B[0m     env \u001B[38;5;241m=\u001B[39m \u001B[43mgym\u001B[49m\u001B[38;5;241;43m.\u001B[39;49m\u001B[43mmake\u001B[49m\u001B[43m(\u001B[49m\u001B[38;5;124;43m\"\u001B[39;49m\u001B[38;5;124;43mALE/BankHeist-v5\u001B[39;49m\u001B[38;5;124;43m\"\u001B[39;49m\u001B[43m,\u001B[49m\u001B[43m \u001B[49m\u001B[43mrender_mode\u001B[49m\u001B[38;5;241;43m=\u001B[39;49m\u001B[38;5;124;43m\"\u001B[39;49m\u001B[38;5;124;43mrgb_array\u001B[39;49m\u001B[38;5;124;43m\"\u001B[39;49m\u001B[43m)\u001B[49m\n\u001B[0;32m      7\u001B[0m     env\u001B[38;5;241m.\u001B[39mmetadata[\u001B[38;5;124m'\u001B[39m\u001B[38;5;124mrender_fps\u001B[39m\u001B[38;5;124m'\u001B[39m] \u001B[38;5;241m=\u001B[39m \u001B[38;5;241m15\u001B[39m\n\u001B[0;32m      8\u001B[0m     play(env, zoom\u001B[38;5;241m=\u001B[39m\u001B[38;5;241m3\u001B[39m)\n",
      "File \u001B[1;32m~\\AppData\\Local\\Programs\\Python\\Python311\\Lib\\site-packages\\gymnasium\\envs\\registration.py:741\u001B[0m, in \u001B[0;36mmake\u001B[1;34m(id, max_episode_steps, autoreset, apply_api_compatibility, disable_env_checker, **kwargs)\u001B[0m\n\u001B[0;32m    738\u001B[0m     \u001B[38;5;28;01massert\u001B[39;00m \u001B[38;5;28misinstance\u001B[39m(\u001B[38;5;28mid\u001B[39m, \u001B[38;5;28mstr\u001B[39m)\n\u001B[0;32m    740\u001B[0m     \u001B[38;5;66;03m# The environment name can include an unloaded module in \"module:env_name\" style\u001B[39;00m\n\u001B[1;32m--> 741\u001B[0m     env_spec \u001B[38;5;241m=\u001B[39m \u001B[43m_find_spec\u001B[49m\u001B[43m(\u001B[49m\u001B[38;5;28;43mid\u001B[39;49m\u001B[43m)\u001B[49m\n\u001B[0;32m    743\u001B[0m \u001B[38;5;28;01massert\u001B[39;00m \u001B[38;5;28misinstance\u001B[39m(env_spec, EnvSpec)\n\u001B[0;32m    745\u001B[0m \u001B[38;5;66;03m# Update the env spec kwargs with the `make` kwargs\u001B[39;00m\n",
      "File \u001B[1;32m~\\AppData\\Local\\Programs\\Python\\Python311\\Lib\\site-packages\\gymnasium\\envs\\registration.py:527\u001B[0m, in \u001B[0;36m_find_spec\u001B[1;34m(env_id)\u001B[0m\n\u001B[0;32m    521\u001B[0m     logger\u001B[38;5;241m.\u001B[39mwarn(\n\u001B[0;32m    522\u001B[0m         \u001B[38;5;124mf\u001B[39m\u001B[38;5;124m\"\u001B[39m\u001B[38;5;124mUsing the latest versioned environment `\u001B[39m\u001B[38;5;132;01m{\u001B[39;00mnew_env_id\u001B[38;5;132;01m}\u001B[39;00m\u001B[38;5;124m` \u001B[39m\u001B[38;5;124m\"\u001B[39m\n\u001B[0;32m    523\u001B[0m         \u001B[38;5;124mf\u001B[39m\u001B[38;5;124m\"\u001B[39m\u001B[38;5;124minstead of the unversioned environment `\u001B[39m\u001B[38;5;132;01m{\u001B[39;00menv_name\u001B[38;5;132;01m}\u001B[39;00m\u001B[38;5;124m`.\u001B[39m\u001B[38;5;124m\"\u001B[39m\n\u001B[0;32m    524\u001B[0m     )\n\u001B[0;32m    526\u001B[0m \u001B[38;5;28;01mif\u001B[39;00m env_spec \u001B[38;5;129;01mis\u001B[39;00m \u001B[38;5;28;01mNone\u001B[39;00m:\n\u001B[1;32m--> 527\u001B[0m     \u001B[43m_check_version_exists\u001B[49m\u001B[43m(\u001B[49m\u001B[43mns\u001B[49m\u001B[43m,\u001B[49m\u001B[43m \u001B[49m\u001B[43mname\u001B[49m\u001B[43m,\u001B[49m\u001B[43m \u001B[49m\u001B[43mversion\u001B[49m\u001B[43m)\u001B[49m\n\u001B[0;32m    528\u001B[0m     \u001B[38;5;28;01mraise\u001B[39;00m error\u001B[38;5;241m.\u001B[39mError(\n\u001B[0;32m    529\u001B[0m         \u001B[38;5;124mf\u001B[39m\u001B[38;5;124m\"\u001B[39m\u001B[38;5;124mNo registered env with id: \u001B[39m\u001B[38;5;132;01m{\u001B[39;00menv_name\u001B[38;5;132;01m}\u001B[39;00m\u001B[38;5;124m. Did you register it, or import the package that registers it? Use `gymnasium.pprint_registry()` to see all of the registered environments.\u001B[39m\u001B[38;5;124m\"\u001B[39m\n\u001B[0;32m    530\u001B[0m     )\n\u001B[0;32m    532\u001B[0m \u001B[38;5;28;01mreturn\u001B[39;00m env_spec\n",
      "File \u001B[1;32m~\\AppData\\Local\\Programs\\Python\\Python311\\Lib\\site-packages\\gymnasium\\envs\\registration.py:393\u001B[0m, in \u001B[0;36m_check_version_exists\u001B[1;34m(ns, name, version)\u001B[0m\n\u001B[0;32m    390\u001B[0m \u001B[38;5;28;01mif\u001B[39;00m get_env_id(ns, name, version) \u001B[38;5;129;01min\u001B[39;00m registry:\n\u001B[0;32m    391\u001B[0m     \u001B[38;5;28;01mreturn\u001B[39;00m\n\u001B[1;32m--> 393\u001B[0m \u001B[43m_check_name_exists\u001B[49m\u001B[43m(\u001B[49m\u001B[43mns\u001B[49m\u001B[43m,\u001B[49m\u001B[43m \u001B[49m\u001B[43mname\u001B[49m\u001B[43m)\u001B[49m\n\u001B[0;32m    394\u001B[0m \u001B[38;5;28;01mif\u001B[39;00m version \u001B[38;5;129;01mis\u001B[39;00m \u001B[38;5;28;01mNone\u001B[39;00m:\n\u001B[0;32m    395\u001B[0m     \u001B[38;5;28;01mreturn\u001B[39;00m\n",
      "File \u001B[1;32m~\\AppData\\Local\\Programs\\Python\\Python311\\Lib\\site-packages\\gymnasium\\envs\\registration.py:356\u001B[0m, in \u001B[0;36m_check_name_exists\u001B[1;34m(ns, name)\u001B[0m\n\u001B[0;32m    354\u001B[0m \u001B[38;5;250m\u001B[39m\u001B[38;5;124;03m\"\"\"Check if an env exists in a namespace. If it doesn't, print a helpful error message.\"\"\"\u001B[39;00m\n\u001B[0;32m    355\u001B[0m \u001B[38;5;66;03m# First check if the namespace exists\u001B[39;00m\n\u001B[1;32m--> 356\u001B[0m \u001B[43m_check_namespace_exists\u001B[49m\u001B[43m(\u001B[49m\u001B[43mns\u001B[49m\u001B[43m)\u001B[49m\n\u001B[0;32m    358\u001B[0m \u001B[38;5;66;03m# Then check if the name exists\u001B[39;00m\n\u001B[0;32m    359\u001B[0m names: \u001B[38;5;28mset\u001B[39m[\u001B[38;5;28mstr\u001B[39m] \u001B[38;5;241m=\u001B[39m {\n\u001B[0;32m    360\u001B[0m     env_spec\u001B[38;5;241m.\u001B[39mname \u001B[38;5;28;01mfor\u001B[39;00m env_spec \u001B[38;5;129;01min\u001B[39;00m registry\u001B[38;5;241m.\u001B[39mvalues() \u001B[38;5;28;01mif\u001B[39;00m env_spec\u001B[38;5;241m.\u001B[39mnamespace \u001B[38;5;241m==\u001B[39m ns\n\u001B[0;32m    361\u001B[0m }\n",
      "File \u001B[1;32m~\\AppData\\Local\\Programs\\Python\\Python311\\Lib\\site-packages\\gymnasium\\envs\\registration.py:350\u001B[0m, in \u001B[0;36m_check_namespace_exists\u001B[1;34m(ns)\u001B[0m\n\u001B[0;32m    347\u001B[0m \u001B[38;5;28;01melse\u001B[39;00m:\n\u001B[0;32m    348\u001B[0m     suggestion_msg \u001B[38;5;241m=\u001B[39m \u001B[38;5;124mf\u001B[39m\u001B[38;5;124m\"\u001B[39m\u001B[38;5;124mHave you installed the proper package for \u001B[39m\u001B[38;5;132;01m{\u001B[39;00mns\u001B[38;5;132;01m}\u001B[39;00m\u001B[38;5;124m?\u001B[39m\u001B[38;5;124m\"\u001B[39m\n\u001B[1;32m--> 350\u001B[0m \u001B[38;5;28;01mraise\u001B[39;00m error\u001B[38;5;241m.\u001B[39mNamespaceNotFound(\u001B[38;5;124mf\u001B[39m\u001B[38;5;124m\"\u001B[39m\u001B[38;5;124mNamespace \u001B[39m\u001B[38;5;132;01m{\u001B[39;00mns\u001B[38;5;132;01m}\u001B[39;00m\u001B[38;5;124m not found. \u001B[39m\u001B[38;5;132;01m{\u001B[39;00msuggestion_msg\u001B[38;5;132;01m}\u001B[39;00m\u001B[38;5;124m\"\u001B[39m)\n",
      "\u001B[1;31mNamespaceNotFound\u001B[0m: Namespace ALE not found. Have you installed the proper package for ALE?"
     ]
    }
   ],
   "execution_count": 22
  },
  {
   "metadata": {
    "ExecuteTime": {
     "end_time": "2024-04-28T13:36:45.399347Z",
     "start_time": "2024-04-28T13:36:45.393738Z"
    }
   },
   "cell_type": "code",
   "source": [
    "import gymnasium\n",
    "import torch\n",
    "import numpy as np\n",
    "from gymnasium.wrappers import Monitor\n",
    "\n",
    "# Загрузка модели из файла .pt\n",
    "model = torch.load('your_model.pt')\n",
    "model.eval()\n",
    "\n",
    "# Функция для преобразования изображения в формат, подходящий для модели\n",
    "def preprocess_observation(obs):\n",
    "    # Преобразование изображения в формат PyTorch\n",
    "    return torch.from_numpy(obs).float().unsqueeze(0)\n",
    "\n",
    "# Функция для выбора действия с помощью модели\n",
    "def select_action(obs):\n",
    "    with torch.no_grad():\n",
    "        # Получение предсказания модели\n",
    "        output = model(obs)\n",
    "        # Выбор действия на основе предсказания\n",
    "        action = torch.argmax(output).item()\n",
    "    return action\n",
    "\n",
    "# Функция для игры с использованием модели\n",
    "def play_game(env_name, model):\n",
    "    env = gym.make(env_name)\n",
    "    env = Monitor(env, './videos', force=True) # Запись видео игры\n",
    "    obs = env.reset()\n",
    "    done = False\n",
    "    total_reward = 0\n",
    "\n",
    "    while not done:\n",
    "        # Преобразование наблюдения и выбор действия с помощью модели\n",
    "        obs_tensor = preprocess_observation(obs)\n",
    "        action = select_action(obs_tensor)\n",
    "\n",
    "        # Применение действия к среде и получение нового состояния\n",
    "        obs, reward, done, _ = env.step(action)\n",
    "        total_reward += reward\n",
    "\n",
    "    env.close()\n",
    "    print(\"Total Reward:\", total_reward)\n",
    "\n",
    "# Запуск игры с использованием модели\n",
    "play_game('BankHeist-v5', model)"
   ],
   "id": "17f67f2def3b9402",
   "outputs": [],
   "execution_count": 3
  }
 ],
 "metadata": {
  "kernelspec": {
   "display_name": "Python 3",
   "language": "python",
   "name": "python3"
  },
  "language_info": {
   "codemirror_mode": {
    "name": "ipython",
    "version": 2
   },
   "file_extension": ".py",
   "mimetype": "text/x-python",
   "name": "python",
   "nbconvert_exporter": "python",
   "pygments_lexer": "ipython2",
   "version": "2.7.6"
  }
 },
 "nbformat": 4,
 "nbformat_minor": 5
}
