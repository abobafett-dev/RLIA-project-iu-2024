{
 "cells": [
  {
   "metadata": {
    "ExecuteTime": {
     "end_time": "2024-04-28T13:36:45.389739Z",
     "start_time": "2024-04-28T13:36:36.932406Z"
    }
   },
   "cell_type": "code",
   "source": [
    "from gymnasium.utils.play import play\n",
    "import gymnasium as gym\n",
    "\n",
    "\n",
    "def play_env():\n",
    "    env = gym.make(\"ALE/BankHeist-v5\", render_mode=\"rgb_array\")\n",
    "    env.metadata['render_fps'] = 15\n",
    "    play(env, zoom=3)\n",
    "\n",
    "play_env()"
   ],
   "id": "dc1fc3efd832ddba",
   "outputs": [],
   "execution_count": 3
  },
  {
   "metadata": {
    "ExecuteTime": {
     "end_time": "2024-04-28T13:36:45.399347Z",
     "start_time": "2024-04-28T13:36:45.393738Z"
    }
   },
   "cell_type": "code",
   "source": "",
   "id": "17f67f2def3b9402",
   "outputs": [],
   "execution_count": 3
  }
 ],
 "metadata": {
  "kernelspec": {
   "display_name": "Python 3",
   "language": "python",
   "name": "python3"
  },
  "language_info": {
   "codemirror_mode": {
    "name": "ipython",
    "version": 2
   },
   "file_extension": ".py",
   "mimetype": "text/x-python",
   "name": "python",
   "nbconvert_exporter": "python",
   "pygments_lexer": "ipython2",
   "version": "2.7.6"
  }
 },
 "nbformat": 4,
 "nbformat_minor": 5
}
