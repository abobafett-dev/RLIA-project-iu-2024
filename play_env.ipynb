{
 "cells": [
  {
   "metadata": {
    "ExecuteTime": {
     "end_time": "2024-05-01T19:31:13.779115Z",
     "start_time": "2024-05-01T19:31:13.772319Z"
    }
   },
   "cell_type": "code",
   "source": "# !pip install gymnasium[accept-rom-license]",
   "id": "cefa686717dda88c",
   "outputs": [],
   "execution_count": 1
  },
  {
   "metadata": {
    "ExecuteTime": {
     "end_time": "2024-05-01T19:31:14.562470Z",
     "start_time": "2024-05-01T19:31:13.827329Z"
    }
   },
   "cell_type": "code",
   "source": [
    "from gymnasium.utils.play import play\n",
    "import gymnasium as gym\n",
    "\n",
    "\n",
    "def play_env():\n",
    "    env = gym.make(\"ALE/BankHeist-v5\", render_mode=\"rgb_array\")\n",
    "    env.metadata['render_fps'] = 15\n",
    "    play(env, zoom=3)\n",
    "\n",
    "# play_env()"
   ],
   "id": "dc1fc3efd832ddba",
   "outputs": [],
   "execution_count": 2
  },
  {
   "metadata": {
    "ExecuteTime": {
     "end_time": "2024-05-01T19:31:16.445889Z",
     "start_time": "2024-05-01T19:31:14.563473Z"
    }
   },
   "cell_type": "code",
   "source": [
    "from tqdm.auto import tqdm\n",
    "import numpy as np\n",
    "\n",
    "import gymnasium as gym\n",
    "import math\n",
    "import random\n",
    "import matplotlib\n",
    "import matplotlib.pyplot as plt\n",
    "from collections import namedtuple, deque\n",
    "from itertools import count\n",
    "\n",
    "import torch\n",
    "import torch.nn as nn\n",
    "import torch.optim as optim\n",
    "import torch.nn.functional as F\n",
    "\n",
    "device = torch.device(\"cuda\" if torch.cuda.is_available() else \"cpu\")"
   ],
   "id": "30092acf06a625bc",
   "outputs": [],
   "execution_count": 3
  },
  {
   "metadata": {
    "ExecuteTime": {
     "end_time": "2024-05-01T19:31:16.451899Z",
     "start_time": "2024-05-01T19:31:16.447195Z"
    }
   },
   "cell_type": "code",
   "source": [
    "class DQN(nn.Module):\n",
    "\n",
    "    def __init__(self, n_observations, n_actions):\n",
    "        super(DQN, self).__init__() # [b, 1, 136, 136]\n",
    "        self.max_pool = nn.MaxPool2d(kernel_size=8, stride=2) # [b, 1, 68, 68]\n",
    "        self.conv1 = nn.Conv2d(1, 16, kernel_size=5, padding=2) # [b, 16, 68, 68]\n",
    "        self.conv2 = nn.Conv2d(16, 32, kernel_size=3, padding=1) # [b, 32, 136, 136]\n",
    "        self.layer1 = nn.Linear(1 * 68 * 68, 2048)\n",
    "        self.layer2 = nn.Linear(2048, 512)\n",
    "        self.layer3 = nn.Linear(512, n_actions)\n",
    "\n",
    "    # Called with either one element to determine next action, or a batch\n",
    "    # during optimization. Returns tensor([[left0exp,right0exp]...]).\n",
    "    def forward(self, x):\n",
    "        x = x.unsqueeze(1)\n",
    "        # x = self.conv1(x)\n",
    "        # x = self.max_pool(x)\n",
    "        # x = self.conv2(x)\n",
    "        x = torch.flatten(x, 1)\n",
    "        x = F.relu(self.layer1(x))\n",
    "        x = F.relu(self.layer2(x))\n",
    "        return F.softmax(self.layer3(x), 1)"
   ],
   "id": "17f67f2def3b9402",
   "outputs": [],
   "execution_count": 4
  },
  {
   "metadata": {
    "ExecuteTime": {
     "end_time": "2024-05-01T19:31:16.861484Z",
     "start_time": "2024-05-01T19:31:16.453899Z"
    }
   },
   "cell_type": "code",
   "source": [
    "env = gym.make(\"ALE/BankHeist-v5\", obs_type=\"grayscale\", render_mode=\"human\", frameskip=2)\n",
    "env.reset()\n",
    "env.render()"
   ],
   "id": "a52a0c408bbce9f3",
   "outputs": [
    {
     "name": "stderr",
     "output_type": "stream",
     "text": [
      "E:\\_Inno\\AdditionalReps\\RLIA-project-iu-2024\\venv\\Lib\\site-packages\\gymnasium\\utils\\passive_env_checker.py:335: UserWarning: \u001B[33mWARN: No render fps was declared in the environment (env.metadata['render_fps'] is None or not defined), rendering may occur at inconsistent fps.\u001B[0m\n",
      "  logger.warn(\n"
     ]
    }
   ],
   "execution_count": 5
  },
  {
   "metadata": {
    "ExecuteTime": {
     "end_time": "2024-05-01T19:31:17.030914Z",
     "start_time": "2024-05-01T19:31:16.862478Z"
    }
   },
   "cell_type": "code",
   "source": [
    "# BATCH_SIZE is the number of transitions sampled from the replay buffer\n",
    "# GAMMA is the discount factor as mentioned in the previous section\n",
    "# EPS_START is the starting value of epsilon\n",
    "# EPS_END is the final value of epsilon\n",
    "# EPS_DECAY controls the rate of exponential decay of epsilon, higher means a slower decay\n",
    "# TAU is the update rate of the target network\n",
    "# LR is the learning rate of the ``AdamW`` optimizer\n",
    "BATCH_SIZE = 128\n",
    "GAMMA = 0.99\n",
    "EPS_START = 0.2\n",
    "EPS_END = 0.2\n",
    "EPS_DECAY = 10000\n",
    "TAU = 0.005\n",
    "LR = 1e-4\n",
    "\n",
    "# Get number of actions from gym action space\n",
    "n_actions = 6\n",
    "# Get the number of state observations\n",
    "state, info = env.reset()\n",
    "n_observations = len(state.reshape(-1, 1))\n",
    "\n",
    "model = DQN(n_observations, n_actions).to(device)\n",
    "model.load_state_dict(torch.load('./policy_net_2.pt'))"
   ],
   "id": "44b75945e93fce60",
   "outputs": [
    {
     "data": {
      "text/plain": [
       "<All keys matched successfully>"
      ]
     },
     "execution_count": 6,
     "metadata": {},
     "output_type": "execute_result"
    }
   ],
   "execution_count": 6
  },
  {
   "metadata": {
    "ExecuteTime": {
     "end_time": "2024-05-01T19:31:17.041336Z",
     "start_time": "2024-05-01T19:31:17.031905Z"
    }
   },
   "cell_type": "code",
   "source": [
    "def convert_observation(observation: np.ndarray) -> np.ndarray[np.uint8]:\n",
    "    converted_observation = observation[41:177, 12:148]\n",
    "\n",
    "\n",
    "    bank_boxes = np.array([[[0, 0, 0, 0],\n",
    "                            [0, 0, 142, 142],\n",
    "                            [0, 142, 142, 142],\n",
    "                            [0, 142, 0, 142]],\n",
    "                           [[0, 0, 0, 0],\n",
    "                            [142, 142, 0, 0],\n",
    "                            [142, 142, 142, 0],\n",
    "                            [142, 0, 142, 0]],\n",
    "                           [[0, 142, 0, 142],\n",
    "                            [0, 142, 0, 142],\n",
    "                            [0, 142, 0, 142],\n",
    "                            [142, 142, 142, 142]],\n",
    "                           [[142, 0, 142, 0],\n",
    "                            [142, 0, 142, 0],\n",
    "                            [142, 0, 142, 0],\n",
    "                            [142, 142, 142, 142]]], dtype=np.uint8)\n",
    "\n",
    "    # print(bank_boxes)\n",
    "\n",
    "    shape = (converted_observation.shape[0] // 2, converted_observation.shape[1] // 2)\n",
    "\n",
    "    new_observation = np.zeros(shape, dtype=np.uint8)\n",
    "\n",
    "    for num_row in range(0, shape[0]):\n",
    "        num_row_start = num_row * 4\n",
    "        num_row_finish = num_row_start + 4\n",
    "\n",
    "        for num_col in range(0, shape[1]):\n",
    "            num_col_start = num_col * 4\n",
    "            num_col_finish = num_col_start + 4\n",
    "\n",
    "            box = converted_observation[num_row_start:num_row_finish, num_col_start:num_col_finish]\n",
    "\n",
    "            new_obs_row_start = num_row_start // 2\n",
    "            new_obs_row_finish = num_row_finish // 2\n",
    "            new_obs_col_start = num_col_start // 2\n",
    "            new_obs_col_finish = num_col_finish // 2\n",
    "\n",
    "            if np.all(box != 0): # стены\n",
    "                new_observation[new_obs_row_start:new_obs_row_finish, new_obs_col_start:new_obs_col_finish] = 1\n",
    "                # print(box[0,0])\n",
    "                continue\n",
    "\n",
    "            elif np.all(box == 0): # пол\n",
    "                new_observation[new_obs_row_start:new_obs_row_finish, new_obs_col_start:new_obs_col_finish] = 0\n",
    "                continue\n",
    "\n",
    "            elif np.any(box == 110): # персонаж\n",
    "                new_observation[new_obs_row_start:new_obs_row_finish, new_obs_col_start:new_obs_col_finish] = 2\n",
    "                continue\n",
    "\n",
    "            elif np.any(box == 41): # полиция\n",
    "                new_observation[new_obs_row_start:new_obs_row_finish, new_obs_col_start:new_obs_col_finish] = 3\n",
    "                continue\n",
    "\n",
    "            elif np.any(box in bank_boxes): # банки и цифры реварда\n",
    "                is_bank = False\n",
    "                for bank_box in bank_boxes:\n",
    "                    if np.all(box == bank_box):\n",
    "                        is_bank = True\n",
    "                        new_observation[new_obs_row_start:new_obs_row_finish, new_obs_col_start:new_obs_col_finish] = 4\n",
    "                        break\n",
    "                if is_bank:\n",
    "                    continue\n",
    "                else:\n",
    "                    new_observation[new_obs_row_start:new_obs_row_finish, new_obs_col_start:new_obs_col_finish] = 3\n",
    "\n",
    "            elif np.any(box != 0): # бимба\n",
    "                new_observation[new_obs_row_start:new_obs_row_finish, new_obs_col_start:new_obs_col_finish] = 5\n",
    "                continue\n",
    "            # else:\n",
    "                # print((num_row_start, num_row_finish), (num_col_start, num_col_finish), box, sep='\\n')\n",
    "\n",
    "    return new_observation"
   ],
   "id": "4e6c13f4842a90b1",
   "outputs": [],
   "execution_count": 7
  },
  {
   "metadata": {
    "ExecuteTime": {
     "end_time": "2024-05-01T19:31:17.046463Z",
     "start_time": "2024-05-01T19:31:17.042331Z"
    }
   },
   "cell_type": "code",
   "source": "# convert_observation(state)",
   "id": "c9e12f95309577d1",
   "outputs": [],
   "execution_count": 8
  },
  {
   "metadata": {
    "ExecuteTime": {
     "end_time": "2024-05-01T19:31:17.052886Z",
     "start_time": "2024-05-01T19:31:17.047460Z"
    }
   },
   "cell_type": "code",
   "source": [
    "def select_action(state):\n",
    "    sample = random.random()\n",
    "    eps_threshold = 0.1\n",
    "    if sample > eps_threshold:\n",
    "        with torch.no_grad():\n",
    "            # t.max(1) will return the largest column value of each row.\n",
    "            # second column on max result is index of where max element was\n",
    "            # found, so we pick action with the larger expected reward.\n",
    "            temp = model(state).max(1).indices[0]\n",
    "            if temp == 1:\n",
    "                return torch.tensor([[0]], device=device, dtype=torch.long)\n",
    "            else:\n",
    "                return torch.tensor([[temp]], device=device, dtype=torch.long)\n",
    "\n",
    "    else:\n",
    "        temp = np.random.randint(5)\n",
    "        if temp == 1:\n",
    "            return torch.tensor([[0]], device=device, dtype=torch.long)\n",
    "        else:\n",
    "            return torch.tensor([[temp]], device=device, dtype=torch.long)"
   ],
   "id": "c51d37e64f5870e8",
   "outputs": [],
   "execution_count": 9
  },
  {
   "metadata": {
    "jupyter": {
     "is_executing": true
    },
    "ExecuteTime": {
     "start_time": "2024-05-01T19:31:26.717920Z"
    }
   },
   "cell_type": "code",
   "source": [
    "state, info = env.reset()\n",
    "done = False\n",
    "state = convert_observation(state)\n",
    "state = torch.tensor(state, dtype=torch.float32, device=device).unsqueeze(0)\n",
    "action = select_action(state)\n",
    "observation, reward, terminated, truncated, _ = env.step(action.item())\n",
    "\n",
    "while not done:\n",
    "    state = convert_observation(observation)\n",
    "    state = torch.tensor(state, dtype=torch.float32, device=device).unsqueeze(0)\n",
    "    action = select_action(state)\n",
    "    observation, reward, terminated, truncated, _ = env.step(action.item())\n",
    "    \n",
    "    done = terminated or truncated\n",
    "\n",
    "print('Complete')"
   ],
   "id": "1889f6c7d24b32a6",
   "outputs": [],
   "execution_count": null
  },
  {
   "metadata": {
    "jupyter": {
     "is_executing": true
    }
   },
   "cell_type": "code",
   "source": "",
   "id": "a9d7238e64fd25f0",
   "outputs": [],
   "execution_count": null
  }
 ],
 "metadata": {
  "kernelspec": {
   "display_name": "Python 3",
   "language": "python",
   "name": "python3"
  },
  "language_info": {
   "codemirror_mode": {
    "name": "ipython",
    "version": 2
   },
   "file_extension": ".py",
   "mimetype": "text/x-python",
   "name": "python",
   "nbconvert_exporter": "python",
   "pygments_lexer": "ipython2",
   "version": "2.7.6"
  }
 },
 "nbformat": 4,
 "nbformat_minor": 5
}
