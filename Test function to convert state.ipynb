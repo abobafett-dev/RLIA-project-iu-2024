{
 "cells": [
  {
   "cell_type": "code",
   "source": [
    "import gymnasium as gym\n",
    "import numpy as np\n",
    "import matplotlib.pyplot as plt\n",
    "\n",
    "# env = gym.make(\"ALE/BankHeist-v5\", obs_type=\"grayscale\", render_mode=\"human\")\n",
    "env = gym.make(\"ALE/BankHeist-v5\", obs_type=\"grayscale\")\n",
    "state, info = env.reset()\n",
    "\n",
    "# not include [10, 11, 12, 13, 14, 15, 16, 17]\n",
    "# 0 NOOP\n",
    "# 1 FIRE\n",
    "# 2 UP\n",
    "# 3 RIGHT\n",
    "# 4 LEFT\n",
    "# 5 DOWN\n",
    "\n",
    "observation, reward, terminated, truncated, _ = env.step(0)"
   ],
   "metadata": {
    "collapsed": false,
    "ExecuteTime": {
     "end_time": "2024-05-01T14:04:36.912291Z",
     "start_time": "2024-05-01T14:04:35.593043Z"
    }
   },
   "id": "45612b18675fc1d1",
   "outputs": [],
   "execution_count": 1
  },
  {
   "metadata": {
    "ExecuteTime": {
     "end_time": "2024-05-01T14:05:37.007461Z",
     "start_time": "2024-05-01T14:05:36.972341Z"
    }
   },
   "cell_type": "code",
   "source": [
    "#bimba check with other stage\n",
    "# observation, reward, terminated, truncated, _ = env.step(4)\n",
    "# observation, reward, terminated, truncated, _ = env.step(4)\n",
    "# observation, reward, terminated, truncated, _ = env.step(3)\n",
    "# observation, reward, terminated, truncated, _ = env.step(3)\n",
    "# observation, reward, terminated, truncated, _ = env.step(3)\n",
    "# observation, reward, terminated, truncated, _ = env.step(3)\n",
    "# observation, reward, terminated, truncated, _ = env.step(1)\n",
    "\n",
    "#policiya check\n",
    "observation, reward, terminated, truncated, _ = env.step(1)\n",
    "observation, reward, terminated, truncated, _ = env.step(3)\n",
    "observation, reward, terminated, truncated, _ = env.step(3)\n",
    "observation, reward, terminated, truncated, _ = env.step(3)\n",
    "observation, reward, terminated, truncated, _ = env.step(3)\n",
    "observation, reward, terminated, truncated, _ = env.step(3)\n",
    "observation, reward, terminated, truncated, _ = env.step(3)\n",
    "observation, reward, terminated, truncated, _ = env.step(3)\n",
    "observation, reward, terminated, truncated, _ = env.step(3)\n",
    "observation, reward, terminated, truncated, _ = env.step(3)\n",
    "observation, reward, terminated, truncated, _ = env.step(3)\n",
    "observation, reward, terminated, truncated, _ = env.step(3)\n",
    "observation, reward, terminated, truncated, _ = env.step(3)\n",
    "observation, reward, terminated, truncated, _ = env.step(3)\n",
    "observation, reward, terminated, truncated, _ = env.step(3)\n",
    "observation, reward, terminated, truncated, _ = env.step(5)\n",
    "observation, reward, terminated, truncated, _ = env.step(5)\n",
    "observation, reward, terminated, truncated, _ = env.step(5)\n",
    "observation, reward, terminated, truncated, _ = env.step(5)\n",
    "observation, reward, terminated, truncated, _ = env.step(5)\n",
    "observation, reward, terminated, truncated, _ = env.step(5)\n",
    "observation, reward, terminated, truncated, _ = env.step(5)\n",
    "observation, reward, terminated, truncated, _ = env.step(5)\n",
    "observation, reward, terminated, truncated, _ = env.step(3)\n",
    "observation, reward, terminated, truncated, _ = env.step(3)\n",
    "observation, reward, terminated, truncated, _ = env.step(3)\n",
    "observation, reward, terminated, truncated, _ = env.step(3)\n",
    "observation, reward, terminated, truncated, _ = env.step(3)\n",
    "observation, reward, terminated, truncated, _ = env.step(3)\n",
    "observation, reward, terminated, truncated, _ = env.step(3)\n",
    "observation, reward, terminated, truncated, _ = env.step(3)\n",
    "observation, reward, terminated, truncated, _ = env.step(3)\n",
    "observation, reward, terminated, truncated, _ = env.step(3)\n",
    "observation, reward, terminated, truncated, _ = env.step(3)\n",
    "observation, reward, terminated, truncated, _ = env.step(3)\n",
    "observation, reward, terminated, truncated, _ = env.step(3)\n",
    "observation, reward, terminated, truncated, _ = env.step(3)\n",
    "observation, reward, terminated, truncated, _ = env.step(5)\n",
    "observation, reward, terminated, truncated, _ = env.step(5)\n",
    "observation, reward, terminated, truncated, _ = env.step(5)\n",
    "observation, reward, terminated, truncated, _ = env.step(5)\n",
    "observation, reward, terminated, truncated, _ = env.step(5)\n",
    "observation, reward, terminated, truncated, _ = env.step(5)\n",
    "observation, reward, terminated, truncated, _ = env.step(5)\n",
    "observation, reward, terminated, truncated, _ = env.step(5)\n",
    "observation, reward, terminated, truncated, _ = env.step(4)\n",
    "observation, reward, terminated, truncated, _ = env.step(4)\n",
    "observation, reward, terminated, truncated, _ = env.step(4)\n",
    "observation, reward, terminated, truncated, _ = env.step(5)\n",
    "observation, reward, terminated, truncated, _ = env.step(5)\n",
    "observation, reward, terminated, truncated, _ = env.step(5)\n",
    "observation, reward, terminated, truncated, _ = env.step(5)\n",
    "observation, reward, terminated, truncated, _ = env.step(5)\n",
    "observation, reward, terminated, truncated, _ = env.step(5)\n",
    "observation, reward, terminated, truncated, _ = env.step(5)\n",
    "observation, reward, terminated, truncated, _ = env.step(5)\n",
    "observation, reward, terminated, truncated, _ = env.step(5)\n",
    "observation, reward, terminated, truncated, _ = env.step(3)\n",
    "observation, reward, terminated, truncated, _ = env.step(3)\n",
    "observation, reward, terminated, truncated, _ = env.step(3)\n",
    "observation, reward, terminated, truncated, _ = env.step(3)\n",
    "observation, reward, terminated, truncated, _ = env.step(3)\n",
    "observation, reward, terminated, truncated, _ = env.step(3)\n",
    "observation, reward, terminated, truncated, _ = env.step(3)\n",
    "observation, reward, terminated, truncated, _ = env.step(5)\n",
    "observation, reward, terminated, truncated, _ = env.step(5)\n",
    "observation, reward, terminated, truncated, _ = env.step(5)\n",
    "observation, reward, terminated, truncated, _ = env.step(5)\n",
    "observation, reward, terminated, truncated, _ = env.step(5)\n",
    "observation, reward, terminated, truncated, _ = env.step(5)\n",
    "observation, reward, terminated, truncated, _ = env.step(5)\n",
    "observation, reward, terminated, truncated, _ = env.step(5)\n",
    "observation, reward, terminated, truncated, _ = env.step(5)\n",
    "observation, reward, terminated, truncated, _ = env.step(5)\n",
    "observation, reward, terminated, truncated, _ = env.step(5)\n",
    "observation, reward, terminated, truncated, _ = env.step(5)\n",
    "observation, reward, terminated, truncated, _ = env.step(5)\n",
    "observation, reward, terminated, truncated, _ = env.step(5)"
   ],
   "id": "2556639399393be9",
   "outputs": [],
   "execution_count": 13
  },
  {
   "metadata": {
    "ExecuteTime": {
     "end_time": "2024-05-01T14:04:36.921701Z",
     "start_time": "2024-05-01T14:04:36.918652Z"
    }
   },
   "cell_type": "code",
   "source": [
    "# type(observation)"
   ],
   "id": "af95bd2969851806",
   "outputs": [],
   "execution_count": 3
  },
  {
   "metadata": {
    "ExecuteTime": {
     "end_time": "2024-05-01T14:04:36.925026Z",
     "start_time": "2024-05-01T14:04:36.922707Z"
    }
   },
   "cell_type": "code",
   "source": [
    "# observation.shape"
   ],
   "id": "2ddf4fb2a4ec95f2",
   "outputs": [],
   "execution_count": 4
  },
  {
   "metadata": {
    "ExecuteTime": {
     "end_time": "2024-05-01T14:04:36.928198Z",
     "start_time": "2024-05-01T14:04:36.926031Z"
    }
   },
   "cell_type": "code",
   "source": [
    "# observation[41:177, 12:148]"
   ],
   "id": "d43d1d6951b2814a",
   "outputs": [],
   "execution_count": 5
  },
  {
   "metadata": {
    "ExecuteTime": {
     "end_time": "2024-05-01T14:05:55.738953Z",
     "start_time": "2024-05-01T14:05:55.732454Z"
    }
   },
   "cell_type": "code",
   "source": [
    "def convert_observation(observation: np.ndarray) -> np.ndarray[np.uint8]:\n",
    "    converted_observation = observation[41:177, 12:148]\n",
    "\n",
    "    shape = (converted_observation.shape[0] // 2, converted_observation.shape[1] // 2)\n",
    "\n",
    "    new_observation = np.zeros(shape, dtype=np.uint8)\n",
    "\n",
    "    for num_row in range(0, shape[0]):\n",
    "        num_row_start = num_row * 4\n",
    "        num_row_finish = num_row_start + 4\n",
    "\n",
    "        for num_col in range(0, shape[1]):\n",
    "            num_col_start = num_col * 4\n",
    "            num_col_finish = num_col_start + 4\n",
    "\n",
    "            box = converted_observation[num_row_start:num_row_finish, num_col_start:num_col_finish]\n",
    "\n",
    "            new_obs_row_start = num_row_start // 2\n",
    "            new_obs_row_finish = num_row_finish // 2\n",
    "            new_obs_col_start = num_col_start // 2\n",
    "            new_obs_col_finish = num_col_finish // 2\n",
    "\n",
    "            if np.all(box != 0): # стены\n",
    "                new_observation[new_obs_row_start:new_obs_row_finish, new_obs_col_start:new_obs_col_finish] = 1\n",
    "                # print(box[0,0])\n",
    "                continue\n",
    "\n",
    "            elif np.all(box == 0): # пол\n",
    "                new_observation[new_obs_row_start:new_obs_row_finish, new_obs_col_start:new_obs_col_finish] = 0\n",
    "                continue\n",
    "\n",
    "            elif np.any(box == 110): # персонаж\n",
    "                new_observation[new_obs_row_start:new_obs_row_finish, new_obs_col_start:new_obs_col_finish] = 2\n",
    "                continue\n",
    "\n",
    "            elif np.any(box == 41): # полиция\n",
    "                new_observation[new_obs_row_start:new_obs_row_finish, new_obs_col_start:new_obs_col_finish] = 3\n",
    "                continue\n",
    "\n",
    "            elif np.any(box == 142): # банки\n",
    "                new_observation[new_obs_row_start:new_obs_row_finish, new_obs_col_start:new_obs_col_finish] = 4\n",
    "                continue\n",
    "\n",
    "            elif np.any(box != 0): # бимба\n",
    "                new_observation[new_obs_row_start:new_obs_row_finish, new_obs_col_start:new_obs_col_finish] = 5\n",
    "                continue\n",
    "\n",
    "            # else:\n",
    "            #     print((num_row_start, num_row_finish), (num_col_start, num_col_finish), box, sep='\\n')\n",
    "\n",
    "    return new_observation"
   ],
   "id": "f31c31f75556ae84",
   "outputs": [],
   "execution_count": 18
  },
  {
   "metadata": {
    "ExecuteTime": {
     "end_time": "2024-05-01T14:05:56.316685Z",
     "start_time": "2024-05-01T14:05:56.290853Z"
    }
   },
   "cell_type": "code",
   "source": [
    "converted_observation = convert_observation(observation)\n",
    "# converted_observation"
   ],
   "id": "e3c8f1d9327f7379",
   "outputs": [],
   "execution_count": 19
  },
  {
   "metadata": {
    "ExecuteTime": {
     "end_time": "2024-05-01T14:05:56.527677Z",
     "start_time": "2024-05-01T14:05:56.524263Z"
    }
   },
   "cell_type": "code",
   "source": [
    "type(observation[0, 0])"
   ],
   "id": "2718da38e346bd2d",
   "outputs": [
    {
     "data": {
      "text/plain": "numpy.uint8"
     },
     "execution_count": 20,
     "metadata": {},
     "output_type": "execute_result"
    }
   ],
   "execution_count": 20
  },
  {
   "metadata": {
    "ExecuteTime": {
     "end_time": "2024-05-01T14:11:34.758816Z",
     "start_time": "2024-05-01T14:11:34.680007Z"
    }
   },
   "cell_type": "code",
   "source": [
    "fig, axs = plt.subplots(1, 2, figsize=(15, 10))\n",
    "\n",
    "axs[0].imshow(observation)\n",
    "axs[0].axis('off')\n",
    "\n",
    "axs[1].imshow(converted_observation)\n",
    "axs[1].axis('off')\n",
    "\n",
    "plt.subplots_adjust(wspace=0.05)\n",
    "\n",
    "plt.show()\n",
    "plt.close()"
   ],
   "id": "e9d32f383d5e4b30",
   "outputs": [
    {
     "data": {
      "text/plain": "<Figure size 1500x1000 with 2 Axes>",
      "image/png": "[encoded data removed]"
     },
     "metadata": {},
     "output_type": "display_data"
    }
   ],
   "execution_count": 24
  },
  {
   "metadata": {
    "ExecuteTime": {
     "end_time": "2024-04-28T13:37:55.454840Z",
     "start_time": "2024-04-28T13:37:55.452261Z"
    }
   },
   "cell_type": "code",
   "source": [],
   "id": "2ec24a1fdbe047a9",
   "outputs": [],
   "execution_count": 1100
  }
 ],
 "metadata": {
  "kernelspec": {
   "display_name": "Python 3",
   "language": "python",
   "name": "python3"
  },
  "language_info": {
   "codemirror_mode": {
    "name": "ipython",
    "version": 2
   },
   "file_extension": ".py",
   "mimetype": "text/x-python",
   "name": "python",
   "nbconvert_exporter": "python",
   "pygments_lexer": "ipython2",
   "version": "2.7.6"
  }
 },
 "nbformat": 4,
 "nbformat_minor": 5
}
